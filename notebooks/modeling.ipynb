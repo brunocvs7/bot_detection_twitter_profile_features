{
 "cells": [
  {
   "cell_type": "markdown",
   "metadata": {},
   "source": [
    "# Modeling\n",
    "@Author: Bruno Vieira\n",
    "\n",
    "Goals: Create a classification model able to identify a BOT account on twitter, using only profile-based features."
   ]
  },
  {
   "cell_type": "code",
   "execution_count": 171,
   "metadata": {},
   "outputs": [],
   "source": [
    "# Libs\n",
    "import os\n",
    "import numpy as np\n",
    "import pandas as pd\n",
    "from sklearn.pipeline import Pipeline\n",
    "from sklearn.compose import ColumnTransformer\n",
    "from sklearn.impute import SimpleImputer\n",
    "from sklearn.metrics import classification_report, precision_score, recall_score, roc_auc_score, average_precision_score, f1_score\n",
    "from sklearn.preprocessing import OneHotEncoder, OrdinalEncoder, MinMaxScaler, StandardScaler, FunctionTransformer\n",
    "from sklearn.inspection import permutation_importance\n",
    "from sklearn.model_selection import cross_validate, StratifiedKFold, train_test_split\n",
    "import cloudpickle\n",
    "from sklearn.model_selection import learning_curve\n",
    "import matplotlib.pyplot as plt\n",
    "from sklearn.svm import SVC\n",
    "import utils.dev.model as mdl\n",
    "import importlib\n",
    "import warnings\n",
    "warnings.filterwarnings('ignore')\n",
    "pd.set_option('display.max_columns', 100)"
   ]
  },
  {
   "cell_type": "code",
   "execution_count": 159,
   "metadata": {},
   "outputs": [],
   "source": [
    "# Paths and Filenames\n",
    "DATA_INPUT_PATH = 'data/interim'\n",
    "DATA_INPUT_TRAIN_NAME = 'train_selected_features.csv'\n",
    "DATA_INPUT_TEST_NAME = 'test.csv'\n",
    "MODEL_OUTPUT_PATH = 'models'\n",
    "MODEL_NAME = 'model_bot_classifier_v0.pkl'"
   ]
  },
  {
   "cell_type": "code",
   "execution_count": 132,
   "metadata": {},
   "outputs": [],
   "source": [
    "df_twitter_train = pd.read_csv(os.path.join('..',DATA_INPUT_PATH, DATA_INPUT_TRAIN_NAME))\n",
    "df_twitter_test = pd.read_csv(os.path.join('..',DATA_INPUT_PATH, DATA_INPUT_TEST_NAME))"
   ]
  },
  {
   "cell_type": "code",
   "execution_count": 97,
   "metadata": {},
   "outputs": [],
   "source": [
    "df_twitter_train.replace({False:'FALSE', True:'TRUE'}, inplace=True)\n",
    "df_twitter_test.replace({False:'FALSE', True:'TRUE'}, inplace=True)"
   ]
  },
  {
   "cell_type": "markdown",
   "metadata": {},
   "source": [
    "# 1) Training"
   ]
  },
  {
   "cell_type": "code",
   "execution_count": 98,
   "metadata": {},
   "outputs": [],
   "source": [
    "X_train = df_twitter_train.drop('label', axis=1)\n",
    "y_train = df_twitter_train['label']\n",
    "cat_columns = df_twitter_train.select_dtypes(include=['bool', 'object']).columns.tolist()\n",
    "num_columns = df_twitter_train.select_dtypes(include=['int32','int64','float32', 'float64']).columns.tolist()\n",
    "num_columns.remove('label')"
   ]
  },
  {
   "cell_type": "code",
   "execution_count": 99,
   "metadata": {},
   "outputs": [],
   "source": [
    "\n",
    "skf = StratifiedKFold(n_splits=10)\n",
    "cat_preprocessor = Pipeline(steps=[('imputer', SimpleImputer(strategy='most_frequent')), \n",
    "                                   ('encoder', OneHotEncoder(handle_unknown='ignore'))])\n",
    "num_preprocessor = Pipeline(steps=[('imputer', SimpleImputer(strategy='constant', fill_value=0)), \n",
    "                                   ('scaler', StandardScaler())])\n",
    "\n",
    "pipe_transformer = ColumnTransformer(transformers=[('num_pipe_preprocessor', num_preprocessor, num_columns),\n",
    "                                                   ('cat_pipe_preprocessor', cat_preprocessor, cat_columns)])\n",
    "pipe_model = Pipeline(steps=[('pre_processor', pipe_transformer), \n",
    "                             ('model', SVC(random_state=23, kernel='rbf', gamma='scale', C=1, probability=True))])"
   ]
  },
  {
   "cell_type": "code",
   "execution_count": 100,
   "metadata": {},
   "outputs": [],
   "source": [
    "cross_validation_results = cross_validate(pipe_model, X=X_train, y=y_train, scoring=['average_precision', 'roc_auc', 'precision', 'recall'], cv=skf, n_jobs=-1, verbose=0, return_train_score=True)"
   ]
  },
  {
   "cell_type": "code",
   "execution_count": 101,
   "metadata": {},
   "outputs": [
    {
     "data": {
      "text/plain": [
       "Pipeline(steps=[('pre_processor',\n",
       "                 ColumnTransformer(transformers=[('num_pipe_preprocessor',\n",
       "                                                  Pipeline(steps=[('imputer',\n",
       "                                                                   SimpleImputer(fill_value=0,\n",
       "                                                                                 strategy='constant')),\n",
       "                                                                  ('scaler',\n",
       "                                                                   MinMaxScaler())]),\n",
       "                                                  ['name', 'followers_count',\n",
       "                                                   'friends_count',\n",
       "                                                   'listed_count',\n",
       "                                                   'favourites_count',\n",
       "                                                   'rate_friends_followers',\n",
       "                                                   'unique_colors']),\n",
       "                                                 ('cat_pipe_preprocessor',\n",
       "                                                  Pipeline(steps=[('imputer',\n",
       "                                                                   SimpleImputer(strategy='most_frequent')),\n",
       "                                                                  ('encoder',\n",
       "                                                                   OneHotEncoder(handle_unknown='ignore'))]),\n",
       "                                                  ['profile_location',\n",
       "                                                   'geo_enabled',\n",
       "                                                   'profile_background_tile'])])),\n",
       "                ('model', SVC(C=1, probability=True, random_state=23))])"
      ]
     },
     "execution_count": 101,
     "metadata": {},
     "output_type": "execute_result"
    }
   ],
   "source": [
    "pipe_model.fit(X_train, y_train)"
   ]
  },
  {
   "cell_type": "markdown",
   "metadata": {},
   "source": [
    "# 2) Evaluation"
   ]
  },
  {
   "cell_type": "markdown",
   "metadata": {},
   "source": [
    "## 2.1) Cross Validation"
   ]
  },
  {
   "cell_type": "code",
   "execution_count": 102,
   "metadata": {},
   "outputs": [],
   "source": [
    "cross_validation_results = pd.DataFrame(cross_validation_results)"
   ]
  },
  {
   "cell_type": "code",
   "execution_count": 107,
   "metadata": {},
   "outputs": [
    {
     "data": {
      "text/html": [
       "<div>\n",
       "<style scoped>\n",
       "    .dataframe tbody tr th:only-of-type {\n",
       "        vertical-align: middle;\n",
       "    }\n",
       "\n",
       "    .dataframe tbody tr th {\n",
       "        vertical-align: top;\n",
       "    }\n",
       "\n",
       "    .dataframe thead th {\n",
       "        text-align: right;\n",
       "    }\n",
       "</style>\n",
       "<table border=\"1\" class=\"dataframe\">\n",
       "  <thead>\n",
       "    <tr style=\"text-align: right;\">\n",
       "      <th></th>\n",
       "      <th>fit_time</th>\n",
       "      <th>score_time</th>\n",
       "      <th>test_average_precision</th>\n",
       "      <th>train_average_precision</th>\n",
       "      <th>test_roc_auc</th>\n",
       "      <th>train_roc_auc</th>\n",
       "      <th>test_precision</th>\n",
       "      <th>train_precision</th>\n",
       "      <th>test_recall</th>\n",
       "      <th>train_recall</th>\n",
       "    </tr>\n",
       "  </thead>\n",
       "  <tbody>\n",
       "    <tr>\n",
       "      <th>0</th>\n",
       "      <td>27.536970</td>\n",
       "      <td>1.862643</td>\n",
       "      <td>0.822254</td>\n",
       "      <td>0.717450</td>\n",
       "      <td>0.809445</td>\n",
       "      <td>0.685074</td>\n",
       "      <td>0.731343</td>\n",
       "      <td>0.643571</td>\n",
       "      <td>0.739224</td>\n",
       "      <td>0.708513</td>\n",
       "    </tr>\n",
       "    <tr>\n",
       "      <th>1</th>\n",
       "      <td>28.183174</td>\n",
       "      <td>1.752512</td>\n",
       "      <td>0.756801</td>\n",
       "      <td>0.719327</td>\n",
       "      <td>0.725310</td>\n",
       "      <td>0.689589</td>\n",
       "      <td>0.646681</td>\n",
       "      <td>0.645197</td>\n",
       "      <td>0.650862</td>\n",
       "      <td>0.701817</td>\n",
       "    </tr>\n",
       "    <tr>\n",
       "      <th>2</th>\n",
       "      <td>27.258845</td>\n",
       "      <td>1.896502</td>\n",
       "      <td>0.747670</td>\n",
       "      <td>0.727840</td>\n",
       "      <td>0.707189</td>\n",
       "      <td>0.692981</td>\n",
       "      <td>0.636917</td>\n",
       "      <td>0.645083</td>\n",
       "      <td>0.675269</td>\n",
       "      <td>0.702942</td>\n",
       "    </tr>\n",
       "    <tr>\n",
       "      <th>3</th>\n",
       "      <td>28.007198</td>\n",
       "      <td>1.733780</td>\n",
       "      <td>0.705080</td>\n",
       "      <td>0.710988</td>\n",
       "      <td>0.674730</td>\n",
       "      <td>0.682604</td>\n",
       "      <td>0.645749</td>\n",
       "      <td>0.644644</td>\n",
       "      <td>0.686022</td>\n",
       "      <td>0.702464</td>\n",
       "    </tr>\n",
       "    <tr>\n",
       "      <th>4</th>\n",
       "      <td>27.869060</td>\n",
       "      <td>1.722808</td>\n",
       "      <td>0.660182</td>\n",
       "      <td>0.718484</td>\n",
       "      <td>0.621055</td>\n",
       "      <td>0.689562</td>\n",
       "      <td>0.628283</td>\n",
       "      <td>0.644335</td>\n",
       "      <td>0.668817</td>\n",
       "      <td>0.722315</td>\n",
       "    </tr>\n",
       "    <tr>\n",
       "      <th>5</th>\n",
       "      <td>27.878100</td>\n",
       "      <td>1.718762</td>\n",
       "      <td>0.729675</td>\n",
       "      <td>0.715753</td>\n",
       "      <td>0.698297</td>\n",
       "      <td>0.685462</td>\n",
       "      <td>0.649225</td>\n",
       "      <td>0.640678</td>\n",
       "      <td>0.720430</td>\n",
       "      <td>0.723272</td>\n",
       "    </tr>\n",
       "    <tr>\n",
       "      <th>6</th>\n",
       "      <td>27.877697</td>\n",
       "      <td>1.762361</td>\n",
       "      <td>0.653986</td>\n",
       "      <td>0.727438</td>\n",
       "      <td>0.636221</td>\n",
       "      <td>0.694881</td>\n",
       "      <td>0.617934</td>\n",
       "      <td>0.648313</td>\n",
       "      <td>0.681720</td>\n",
       "      <td>0.712509</td>\n",
       "    </tr>\n",
       "    <tr>\n",
       "      <th>7</th>\n",
       "      <td>27.903750</td>\n",
       "      <td>1.729262</td>\n",
       "      <td>0.723285</td>\n",
       "      <td>0.722794</td>\n",
       "      <td>0.700169</td>\n",
       "      <td>0.690701</td>\n",
       "      <td>0.638489</td>\n",
       "      <td>0.645664</td>\n",
       "      <td>0.763441</td>\n",
       "      <td>0.703420</td>\n",
       "    </tr>\n",
       "    <tr>\n",
       "      <th>8</th>\n",
       "      <td>28.036855</td>\n",
       "      <td>1.710387</td>\n",
       "      <td>0.715701</td>\n",
       "      <td>0.717566</td>\n",
       "      <td>0.666471</td>\n",
       "      <td>0.690333</td>\n",
       "      <td>0.639929</td>\n",
       "      <td>0.638994</td>\n",
       "      <td>0.773707</td>\n",
       "      <td>0.728838</td>\n",
       "    </tr>\n",
       "    <tr>\n",
       "      <th>9</th>\n",
       "      <td>27.683651</td>\n",
       "      <td>1.765317</td>\n",
       "      <td>0.657866</td>\n",
       "      <td>0.725930</td>\n",
       "      <td>0.607402</td>\n",
       "      <td>0.698253</td>\n",
       "      <td>0.603416</td>\n",
       "      <td>0.651630</td>\n",
       "      <td>0.685345</td>\n",
       "      <td>0.697752</td>\n",
       "    </tr>\n",
       "  </tbody>\n",
       "</table>\n",
       "</div>"
      ],
      "text/plain": [
       "    fit_time  score_time  test_average_precision  train_average_precision  \\\n",
       "0  27.536970    1.862643                0.822254                 0.717450   \n",
       "1  28.183174    1.752512                0.756801                 0.719327   \n",
       "2  27.258845    1.896502                0.747670                 0.727840   \n",
       "3  28.007198    1.733780                0.705080                 0.710988   \n",
       "4  27.869060    1.722808                0.660182                 0.718484   \n",
       "5  27.878100    1.718762                0.729675                 0.715753   \n",
       "6  27.877697    1.762361                0.653986                 0.727438   \n",
       "7  27.903750    1.729262                0.723285                 0.722794   \n",
       "8  28.036855    1.710387                0.715701                 0.717566   \n",
       "9  27.683651    1.765317                0.657866                 0.725930   \n",
       "\n",
       "   test_roc_auc  train_roc_auc  test_precision  train_precision  test_recall  \\\n",
       "0      0.809445       0.685074        0.731343         0.643571     0.739224   \n",
       "1      0.725310       0.689589        0.646681         0.645197     0.650862   \n",
       "2      0.707189       0.692981        0.636917         0.645083     0.675269   \n",
       "3      0.674730       0.682604        0.645749         0.644644     0.686022   \n",
       "4      0.621055       0.689562        0.628283         0.644335     0.668817   \n",
       "5      0.698297       0.685462        0.649225         0.640678     0.720430   \n",
       "6      0.636221       0.694881        0.617934         0.648313     0.681720   \n",
       "7      0.700169       0.690701        0.638489         0.645664     0.763441   \n",
       "8      0.666471       0.690333        0.639929         0.638994     0.773707   \n",
       "9      0.607402       0.698253        0.603416         0.651630     0.685345   \n",
       "\n",
       "   train_recall  \n",
       "0      0.708513  \n",
       "1      0.701817  \n",
       "2      0.702942  \n",
       "3      0.702464  \n",
       "4      0.722315  \n",
       "5      0.723272  \n",
       "6      0.712509  \n",
       "7      0.703420  \n",
       "8      0.728838  \n",
       "9      0.697752  "
      ]
     },
     "execution_count": 107,
     "metadata": {},
     "output_type": "execute_result"
    }
   ],
   "source": [
    "cross_validation_results"
   ]
  },
  {
   "cell_type": "code",
   "execution_count": 109,
   "metadata": {},
   "outputs": [
    {
     "data": {
      "text/plain": [
       "0.010793214678570666"
      ]
     },
     "execution_count": 109,
     "metadata": {},
     "output_type": "execute_result"
    }
   ],
   "source": [
    "1.96*cross_validation_results['train_average_precision'].std()"
   ]
  },
  {
   "cell_type": "code",
   "execution_count": 113,
   "metadata": {},
   "outputs": [
    {
     "name": "stdout",
     "output_type": "stream",
     "text": [
      "Avg Train Avg Precision:0.72 +/- 0.01\n",
      "Avg Test Avg Precision:0.72 +/- 0.1\n"
     ]
    }
   ],
   "source": [
    "print(f\"Avg Train Avg Precision:{np.round(cross_validation_results['train_average_precision'].mean(), 2)} +/- {np.round(1.96*cross_validation_results['train_average_precision'].std(), 2)}\")\n",
    "print(f\"Avg Test Avg Precision:{np.round(cross_validation_results['test_average_precision'].mean(), 2)} +/- {np.round(1.96*cross_validation_results['test_average_precision'].std(), 2)}\")"
   ]
  },
  {
   "cell_type": "code",
   "execution_count": 115,
   "metadata": {},
   "outputs": [
    {
     "name": "stdout",
     "output_type": "stream",
     "text": [
      "ROC - AUC Train:0.69 +/- 0.01\n",
      "ROC - AUC Test:0.68 +/- 0.11\n"
     ]
    }
   ],
   "source": [
    "print(f\"ROC - AUC Train:{np.round(cross_validation_results['train_roc_auc'].mean(), 2)} +/- {np.round(1.96*cross_validation_results['train_roc_auc'].std(), 2)}\")\n",
    "print(f\"ROC - AUC Test:{np.round(cross_validation_results['test_roc_auc'].mean(), 2)} +/- {np.round(1.96*cross_validation_results['test_roc_auc'].std(), 2)}\")"
   ]
  },
  {
   "cell_type": "markdown",
   "metadata": {},
   "source": [
    "## 2.2) Test Set"
   ]
  },
  {
   "cell_type": "code",
   "execution_count": 133,
   "metadata": {},
   "outputs": [],
   "source": [
    "def build_features(df):\n",
    "    list_columns_colors = df.filter(regex='color').columns.tolist()\n",
    "    df = df.replace({'false':'FALSE', 'true':'TRUE', False:'FALSE', True:'TRUE'})\n",
    "    df['name'] = df['name'].apply(lambda x: len(x) if x is not np.nan else 0)\n",
    "    df['profile_location'] = df['profile_location'].apply(lambda x: 'TRUE' if x is not np.nan else 'FALSE')\n",
    "    df['rate_friends_followers'] = df['friends_count']/df['followers_count']\n",
    "    df['rate_friends_followers'] = df['rate_friends_followers'].map({np.inf:0, np.nan:0})\n",
    "    df['unique_colors'] = df[list_columns_colors].stack().groupby(level=0).nunique()\n",
    "    return df"
   ]
  },
  {
   "cell_type": "code",
   "execution_count": 134,
   "metadata": {},
   "outputs": [],
   "source": [
    "df_twitter_test = build_features(df_twitter_test)"
   ]
  },
  {
   "cell_type": "code",
   "execution_count": 136,
   "metadata": {},
   "outputs": [],
   "source": [
    "columns_to_predict = df_twitter_train.columns.tolist()\n",
    "df_twitter_test = df_twitter_test.loc[:,columns_to_predict]"
   ]
  },
  {
   "cell_type": "code",
   "execution_count": 138,
   "metadata": {},
   "outputs": [],
   "source": [
    "X_test = df_twitter_test.drop('label', axis=1)\n",
    "y_test = df_twitter_test['label']\n"
   ]
  },
  {
   "cell_type": "markdown",
   "metadata": {},
   "source": [
    "## 2.3) Metrics"
   ]
  },
  {
   "cell_type": "code",
   "execution_count": 81,
   "metadata": {},
   "outputs": [],
   "source": [
    "y_train_predict = pipe_model.predict_proba(X_train)\n",
    "y_test_predict = pipe_model.predict_proba(X_test)"
   ]
  },
  {
   "cell_type": "code",
   "execution_count": 142,
   "metadata": {},
   "outputs": [],
   "source": [
    "df_metrics_train = mdl.eval_thresh(y_real = y_train, y_proba = y_train_predict[:,1])\n",
    "df_metrics_test = mdl.eval_thresh(y_real = y_test, y_proba = y_test_predict[:,1])\n"
   ]
  },
  {
   "cell_type": "code",
   "execution_count": 92,
   "metadata": {},
   "outputs": [
    {
     "data": {
      "text/plain": [
       "<module 'utils.dev.model' from '/Users/bruno.santos/Desktop/Mestrado/projects/bot_detection_twitter_profile_features/utils/dev/model.py'>"
      ]
     },
     "execution_count": 92,
     "metadata": {},
     "output_type": "execute_result"
    }
   ],
   "source": [
    "importlib.reload(mdl)"
   ]
  },
  {
   "cell_type": "code",
   "execution_count": 144,
   "metadata": {},
   "outputs": [
    {
     "data": {
      "image/png": "[encoded data removed]",
      "text/plain": [
       "<Figure size 432x288 with 1 Axes>"
      ]
     },
     "metadata": {
      "needs_background": "light"
     },
     "output_type": "display_data"
    },
    {
     "data": {
      "text/plain": [
       "None"
      ]
     },
     "metadata": {},
     "output_type": "display_data"
    }
   ],
   "source": [
    "mdl.plot_metrics(df_metrics_train)"
   ]
  },
  {
   "cell_type": "code",
   "execution_count": 145,
   "metadata": {},
   "outputs": [
    {
     "data": {
      "image/png": "[encoded data removed]",
      "text/plain": [
       "<Figure size 432x288 with 1 Axes>"
      ]
     },
     "metadata": {
      "needs_background": "light"
     },
     "output_type": "display_data"
    },
    {
     "data": {
      "text/plain": [
       "None"
      ]
     },
     "metadata": {},
     "output_type": "display_data"
    }
   ],
   "source": [
    "mdl.plot_metrics(df_metrics_test)"
   ]
  },
  {
   "cell_type": "markdown",
   "metadata": {},
   "source": [
    "## 2.4) Learning Curve"
   ]
  },
  {
   "cell_type": "code",
   "execution_count": 163,
   "metadata": {},
   "outputs": [],
   "source": [
    "train_sizes, train_scores, validation_scores = learning_curve(estimator = pipe_model,\n",
    "                                                              X = X_train,\n",
    "                                                              y = y_train,\n",
    "                                                              cv = 5,\n",
    "                                                              train_sizes=np.linspace(0.1, 1, 10),\n",
    "                                                              scoring = 'neg_log_loss')"
   ]
  },
  {
   "cell_type": "code",
   "execution_count": 164,
   "metadata": {},
   "outputs": [
    {
     "data": {
      "image/png": "[encoded data removed]",
      "text/plain": [
       "<Figure size 576x396 with 1 Axes>"
      ]
     },
     "metadata": {},
     "output_type": "display_data"
    }
   ],
   "source": [
    "train_scores_mean = train_scores.mean(axis=1)\n",
    "validation_scores_mean = validation_scores.mean(axis=1)\n",
    "plt.style.use('seaborn')\n",
    "plt.plot(train_sizes, train_scores_mean, label = 'Training error')\n",
    "plt.plot(train_sizes, validation_scores_mean, label = 'Validation error')\n",
    "plt.ylabel('Average Precision Score', fontsize = 14)\n",
    "plt.xlabel('Training set size', fontsize = 14)\n",
    "plt.title('Learning curves', fontsize = 18, y = 1.03)\n",
    "plt.legend()\n",
    "plt.show()"
   ]
  },
  {
   "cell_type": "markdown",
   "metadata": {},
   "source": [
    "## 2.5) Ordering"
   ]
  },
  {
   "cell_type": "markdown",
   "metadata": {},
   "source": [
    "## 2.6) Callibration"
   ]
  },
  {
   "cell_type": "markdown",
   "metadata": {},
   "source": [
    "# 3) Saving the Model"
   ]
  },
  {
   "cell_type": "code",
   "execution_count": 170,
   "metadata": {},
   "outputs": [],
   "source": [
    "with open(os.path.join('..', MODEL_OUTPUT_PATH, MODEL_NAME), 'wb') as f:\n",
    "    cloudpickle.dump(pipe_model, f)"
   ]
  }
 ],
 "metadata": {
  "interpreter": {
   "hash": "631d62a8218a8f50179e13daa5694e946a2017bdca9543a38002332f474c91fc"
  },
  "kernelspec": {
   "display_name": "Python 3.9.6 64-bit ('mestrado_env': venv)",
   "name": "python3"
  },
  "language_info": {
   "codemirror_mode": {
    "name": "ipython",
    "version": 3
   },
   "file_extension": ".py",
   "mimetype": "text/x-python",
   "name": "python",
   "nbconvert_exporter": "python",
   "pygments_lexer": "ipython3",
   "version": "3.9.6"
  },
  "orig_nbformat": 4
 },
 "nbformat": 4,
 "nbformat_minor": 2
}
