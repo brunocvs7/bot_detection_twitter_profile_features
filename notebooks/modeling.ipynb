{
 "cells": [
  {
   "cell_type": "markdown",
   "metadata": {},
   "source": [
    "# Modeling\n",
    "@Author: Bruno Vieira\n",
    "\n",
    "Goals: Create a classification model able to identify a BOT account on twitter, using only profile-based features."
   ]
  },
  {
   "cell_type": "code",
   "execution_count": 89,
   "metadata": {},
   "outputs": [],
   "source": [
    "# Libs\n",
    "import os\n",
    "import numpy as np\n",
    "import pandas as pd\n",
    "from sklearn.pipeline import Pipeline\n",
    "from sklearn.compose import ColumnTransformer\n",
    "from sklearn.impute import SimpleImputer\n",
    "from sklearn.metrics import classification_report, precision_score, recall_score, roc_auc_score, average_precision_score, f1_score\n",
    "from sklearn.preprocessing import OneHotEncoder, OrdinalEncoder, MinMaxScaler, FunctionTransformer\n",
    "from sklearn.ensemble import RandomForestClassifier\n",
    "from sklearn.inspection import permutation_importance\n",
    "from sklearn.model_selection import cross_validate, StratifiedKFold, train_test_split\n",
    "import cloudpickle\n",
    "import matplotlib.pyplot as plt\n",
    "from sklearn.svm import SVC\n",
    "import utils.dev.model as mdl\n",
    "import importlib\n",
    "pd.set_option('display.max_columns', 100)"
   ]
  },
  {
   "cell_type": "code",
   "execution_count": 75,
   "metadata": {},
   "outputs": [],
   "source": [
    "# Paths and Filenames\n",
    "DATA_INPUT_PATH = 'data/interim'\n",
    "DATA_INPUT_TRAIN_NAME = 'train_selected_features.csv'\n",
    "DATA_INPUT_TEST_NAME = 'test.csv'\n",
    "MODEL_OUTPUT_PATH = 'models'\n",
    "MODEL_NAME = 'model_bot_classifier_v0'"
   ]
  },
  {
   "cell_type": "code",
   "execution_count": 76,
   "metadata": {},
   "outputs": [],
   "source": [
    "df_twitter_train = pd.read_csv(os.path.join('..',DATA_INPUT_PATH, DATA_INPUT_TRAIN_NAME))\n",
    "df_twitter_test = pd.read_csv(os.path.join('..',DATA_INPUT_PATH, DATA_INPUT_TEST_NAME))"
   ]
  },
  {
   "cell_type": "code",
   "execution_count": 49,
   "metadata": {},
   "outputs": [],
   "source": [
    "df_twitter_train.replace({False:'FALSE', True:'TRUE'}, inplace=True)\n",
    "df_twitter_test.replace({False:'FALSE', True:'TRUE'}, inplace=True)"
   ]
  },
  {
   "cell_type": "markdown",
   "metadata": {},
   "source": [
    "# 1) Training"
   ]
  },
  {
   "cell_type": "code",
   "execution_count": 50,
   "metadata": {},
   "outputs": [],
   "source": [
    "X_train = df_twitter_train.drop('label', axis=1)\n",
    "y_train = df_twitter_train['label']\n",
    "cat_columns = df_twitter_train.select_dtypes(include=['bool', 'object']).columns.tolist()\n",
    "num_columns = df_twitter_train.select_dtypes(include=['int32','int64','float32', 'float64']).columns.tolist()\n",
    "num_columns.remove('label')"
   ]
  },
  {
   "cell_type": "code",
   "execution_count": 66,
   "metadata": {},
   "outputs": [],
   "source": [
    "\n",
    "skf = StratifiedKFold(n_splits=10)\n",
    "cat_preprocessor = Pipeline(steps=[('imputer', SimpleImputer(strategy='most_frequent')), \n",
    "                                   ('encoder', OneHotEncoder(handle_unknown='ignore'))])\n",
    "num_preprocessor = Pipeline(steps=[('imputer', SimpleImputer(strategy='constant', fill_value=0)), \n",
    "                                   ('scaler', MinMaxScaler())])\n",
    "\n",
    "pipe_transformer = ColumnTransformer(transformers=[('num_pipe_preprocessor', num_preprocessor, num_columns),\n",
    "                                                   ('cat_pipe_preprocessor', cat_preprocessor, cat_columns)])\n",
    "pipe_model = Pipeline(steps=[('pre_processor', pipe_transformer), \n",
    "                             ('model', SVC(random_state=23, kernel='rbf', gamma='scale', C=1, probability=True))])"
   ]
  },
  {
   "cell_type": "code",
   "execution_count": 72,
   "metadata": {},
   "outputs": [],
   "source": [
    "cross_validation_results = cross_validate(pipe_model, X=X_train, y=y_train, scoring=['average_precision', 'roc_auc', 'precision', 'recall'], cv=skf, n_jobs=-1, verbose=0, return_train_score=True)"
   ]
  },
  {
   "cell_type": "code",
   "execution_count": 74,
   "metadata": {},
   "outputs": [
    {
     "data": {
      "text/plain": [
       "Pipeline(steps=[('pre_processor',\n",
       "                 ColumnTransformer(transformers=[('num_pipe_preprocessor',\n",
       "                                                  Pipeline(steps=[('imputer',\n",
       "                                                                   SimpleImputer(fill_value=0,\n",
       "                                                                                 strategy='constant')),\n",
       "                                                                  ('scaler',\n",
       "                                                                   MinMaxScaler())]),\n",
       "                                                  ['name', 'followers_count',\n",
       "                                                   'friends_count',\n",
       "                                                   'listed_count',\n",
       "                                                   'favourites_count',\n",
       "                                                   'rate_friends_followers',\n",
       "                                                   'unique_colors']),\n",
       "                                                 ('cat_pipe_preprocessor',\n",
       "                                                  Pipeline(steps=[('imputer',\n",
       "                                                                   SimpleImputer(strategy='most_frequent')),\n",
       "                                                                  ('encoder',\n",
       "                                                                   OneHotEncoder(handle_unknown='ignore'))]),\n",
       "                                                  ['profile_location',\n",
       "                                                   'geo_enabled',\n",
       "                                                   'profile_background_tile'])])),\n",
       "                ('model', SVC(C=1, probability=True, random_state=23))])"
      ]
     },
     "execution_count": 74,
     "metadata": {},
     "output_type": "execute_result"
    }
   ],
   "source": [
    "pipe_model.fit(X_train, y_train)"
   ]
  },
  {
   "cell_type": "markdown",
   "metadata": {},
   "source": [
    "# 2) Evaluation"
   ]
  },
  {
   "cell_type": "code",
   "execution_count": 79,
   "metadata": {},
   "outputs": [],
   "source": [
    "cross_validation_results = pd.DataFrame(cross_validation_results)"
   ]
  },
  {
   "cell_type": "code",
   "execution_count": 80,
   "metadata": {},
   "outputs": [
    {
     "data": {
      "text/html": [
       "<div>\n",
       "<style scoped>\n",
       "    .dataframe tbody tr th:only-of-type {\n",
       "        vertical-align: middle;\n",
       "    }\n",
       "\n",
       "    .dataframe tbody tr th {\n",
       "        vertical-align: top;\n",
       "    }\n",
       "\n",
       "    .dataframe thead th {\n",
       "        text-align: right;\n",
       "    }\n",
       "</style>\n",
       "<table border=\"1\" class=\"dataframe\">\n",
       "  <thead>\n",
       "    <tr style=\"text-align: right;\">\n",
       "      <th></th>\n",
       "      <th>fit_time</th>\n",
       "      <th>score_time</th>\n",
       "      <th>test_average_precision</th>\n",
       "      <th>train_average_precision</th>\n",
       "      <th>test_roc_auc</th>\n",
       "      <th>train_roc_auc</th>\n",
       "      <th>test_precision</th>\n",
       "      <th>train_precision</th>\n",
       "      <th>test_recall</th>\n",
       "      <th>train_recall</th>\n",
       "    </tr>\n",
       "  </thead>\n",
       "  <tbody>\n",
       "    <tr>\n",
       "      <th>0</th>\n",
       "      <td>28.251936</td>\n",
       "      <td>1.663325</td>\n",
       "      <td>0.822254</td>\n",
       "      <td>0.717450</td>\n",
       "      <td>0.809445</td>\n",
       "      <td>0.685074</td>\n",
       "      <td>0.731343</td>\n",
       "      <td>0.643571</td>\n",
       "      <td>0.739224</td>\n",
       "      <td>0.708513</td>\n",
       "    </tr>\n",
       "    <tr>\n",
       "      <th>1</th>\n",
       "      <td>28.514303</td>\n",
       "      <td>1.661737</td>\n",
       "      <td>0.756801</td>\n",
       "      <td>0.719327</td>\n",
       "      <td>0.725310</td>\n",
       "      <td>0.689589</td>\n",
       "      <td>0.646681</td>\n",
       "      <td>0.645197</td>\n",
       "      <td>0.650862</td>\n",
       "      <td>0.701817</td>\n",
       "    </tr>\n",
       "    <tr>\n",
       "      <th>2</th>\n",
       "      <td>27.848434</td>\n",
       "      <td>1.848148</td>\n",
       "      <td>0.747670</td>\n",
       "      <td>0.727840</td>\n",
       "      <td>0.707189</td>\n",
       "      <td>0.692981</td>\n",
       "      <td>0.636917</td>\n",
       "      <td>0.645083</td>\n",
       "      <td>0.675269</td>\n",
       "      <td>0.702942</td>\n",
       "    </tr>\n",
       "    <tr>\n",
       "      <th>3</th>\n",
       "      <td>28.392506</td>\n",
       "      <td>1.721762</td>\n",
       "      <td>0.705080</td>\n",
       "      <td>0.710988</td>\n",
       "      <td>0.674730</td>\n",
       "      <td>0.682604</td>\n",
       "      <td>0.645749</td>\n",
       "      <td>0.644644</td>\n",
       "      <td>0.686022</td>\n",
       "      <td>0.702464</td>\n",
       "    </tr>\n",
       "    <tr>\n",
       "      <th>4</th>\n",
       "      <td>27.648945</td>\n",
       "      <td>1.806094</td>\n",
       "      <td>0.660182</td>\n",
       "      <td>0.718484</td>\n",
       "      <td>0.621055</td>\n",
       "      <td>0.689562</td>\n",
       "      <td>0.628283</td>\n",
       "      <td>0.644335</td>\n",
       "      <td>0.668817</td>\n",
       "      <td>0.722315</td>\n",
       "    </tr>\n",
       "    <tr>\n",
       "      <th>5</th>\n",
       "      <td>28.540884</td>\n",
       "      <td>1.699635</td>\n",
       "      <td>0.729675</td>\n",
       "      <td>0.715753</td>\n",
       "      <td>0.698297</td>\n",
       "      <td>0.685462</td>\n",
       "      <td>0.649225</td>\n",
       "      <td>0.640678</td>\n",
       "      <td>0.720430</td>\n",
       "      <td>0.723272</td>\n",
       "    </tr>\n",
       "    <tr>\n",
       "      <th>6</th>\n",
       "      <td>27.845924</td>\n",
       "      <td>1.637209</td>\n",
       "      <td>0.653986</td>\n",
       "      <td>0.727438</td>\n",
       "      <td>0.636221</td>\n",
       "      <td>0.694881</td>\n",
       "      <td>0.617934</td>\n",
       "      <td>0.648313</td>\n",
       "      <td>0.681720</td>\n",
       "      <td>0.712509</td>\n",
       "    </tr>\n",
       "    <tr>\n",
       "      <th>7</th>\n",
       "      <td>28.313765</td>\n",
       "      <td>1.708702</td>\n",
       "      <td>0.723285</td>\n",
       "      <td>0.722794</td>\n",
       "      <td>0.700169</td>\n",
       "      <td>0.690701</td>\n",
       "      <td>0.638489</td>\n",
       "      <td>0.645664</td>\n",
       "      <td>0.763441</td>\n",
       "      <td>0.703420</td>\n",
       "    </tr>\n",
       "    <tr>\n",
       "      <th>8</th>\n",
       "      <td>28.286296</td>\n",
       "      <td>1.708704</td>\n",
       "      <td>0.715701</td>\n",
       "      <td>0.717566</td>\n",
       "      <td>0.666471</td>\n",
       "      <td>0.690333</td>\n",
       "      <td>0.639929</td>\n",
       "      <td>0.638994</td>\n",
       "      <td>0.773707</td>\n",
       "      <td>0.728838</td>\n",
       "    </tr>\n",
       "    <tr>\n",
       "      <th>9</th>\n",
       "      <td>28.170767</td>\n",
       "      <td>1.717810</td>\n",
       "      <td>0.657866</td>\n",
       "      <td>0.725930</td>\n",
       "      <td>0.607402</td>\n",
       "      <td>0.698253</td>\n",
       "      <td>0.603416</td>\n",
       "      <td>0.651630</td>\n",
       "      <td>0.685345</td>\n",
       "      <td>0.697752</td>\n",
       "    </tr>\n",
       "  </tbody>\n",
       "</table>\n",
       "</div>"
      ],
      "text/plain": [
       "    fit_time  score_time  test_average_precision  train_average_precision  \\\n",
       "0  28.251936    1.663325                0.822254                 0.717450   \n",
       "1  28.514303    1.661737                0.756801                 0.719327   \n",
       "2  27.848434    1.848148                0.747670                 0.727840   \n",
       "3  28.392506    1.721762                0.705080                 0.710988   \n",
       "4  27.648945    1.806094                0.660182                 0.718484   \n",
       "5  28.540884    1.699635                0.729675                 0.715753   \n",
       "6  27.845924    1.637209                0.653986                 0.727438   \n",
       "7  28.313765    1.708702                0.723285                 0.722794   \n",
       "8  28.286296    1.708704                0.715701                 0.717566   \n",
       "9  28.170767    1.717810                0.657866                 0.725930   \n",
       "\n",
       "   test_roc_auc  train_roc_auc  test_precision  train_precision  test_recall  \\\n",
       "0      0.809445       0.685074        0.731343         0.643571     0.739224   \n",
       "1      0.725310       0.689589        0.646681         0.645197     0.650862   \n",
       "2      0.707189       0.692981        0.636917         0.645083     0.675269   \n",
       "3      0.674730       0.682604        0.645749         0.644644     0.686022   \n",
       "4      0.621055       0.689562        0.628283         0.644335     0.668817   \n",
       "5      0.698297       0.685462        0.649225         0.640678     0.720430   \n",
       "6      0.636221       0.694881        0.617934         0.648313     0.681720   \n",
       "7      0.700169       0.690701        0.638489         0.645664     0.763441   \n",
       "8      0.666471       0.690333        0.639929         0.638994     0.773707   \n",
       "9      0.607402       0.698253        0.603416         0.651630     0.685345   \n",
       "\n",
       "   train_recall  \n",
       "0      0.708513  \n",
       "1      0.701817  \n",
       "2      0.702942  \n",
       "3      0.702464  \n",
       "4      0.722315  \n",
       "5      0.723272  \n",
       "6      0.712509  \n",
       "7      0.703420  \n",
       "8      0.728838  \n",
       "9      0.697752  "
      ]
     },
     "execution_count": 80,
     "metadata": {},
     "output_type": "execute_result"
    }
   ],
   "source": [
    "cross_validation_results"
   ]
  },
  {
   "cell_type": "markdown",
   "metadata": {},
   "source": [
    "## 2.1) Metrics"
   ]
  },
  {
   "cell_type": "code",
   "execution_count": 81,
   "metadata": {},
   "outputs": [],
   "source": [
    "y_train_predict = pipe_model.predict_proba(X_train)\n"
   ]
  },
  {
   "cell_type": "code",
   "execution_count": 85,
   "metadata": {},
   "outputs": [
    {
     "name": "stderr",
     "output_type": "stream",
     "text": [
      "/Users/bruno.santos/Desktop/Mestrado/mestrado_env/lib/python3.9/site-packages/sklearn/metrics/_classification.py:1308: UndefinedMetricWarning: Precision is ill-defined and being set to 0.0 due to no predicted samples. Use `zero_division` parameter to control this behavior.\n",
      "  _warn_prf(average, modifier, msg_start, len(result))\n",
      "/Users/bruno.santos/Desktop/Mestrado/mestrado_env/lib/python3.9/site-packages/sklearn/metrics/_classification.py:1308: UndefinedMetricWarning: Precision is ill-defined and being set to 0.0 due to no predicted samples. Use `zero_division` parameter to control this behavior.\n",
      "  _warn_prf(average, modifier, msg_start, len(result))\n",
      "/Users/bruno.santos/Desktop/Mestrado/mestrado_env/lib/python3.9/site-packages/sklearn/metrics/_classification.py:1308: UndefinedMetricWarning: Precision is ill-defined and being set to 0.0 due to no predicted samples. Use `zero_division` parameter to control this behavior.\n",
      "  _warn_prf(average, modifier, msg_start, len(result))\n",
      "/Users/bruno.santos/Desktop/Mestrado/mestrado_env/lib/python3.9/site-packages/sklearn/metrics/_classification.py:1308: UndefinedMetricWarning: Precision is ill-defined and being set to 0.0 due to no predicted samples. Use `zero_division` parameter to control this behavior.\n",
      "  _warn_prf(average, modifier, msg_start, len(result))\n",
      "/Users/bruno.santos/Desktop/Mestrado/mestrado_env/lib/python3.9/site-packages/sklearn/metrics/_classification.py:1308: UndefinedMetricWarning: Precision is ill-defined and being set to 0.0 due to no predicted samples. Use `zero_division` parameter to control this behavior.\n",
      "  _warn_prf(average, modifier, msg_start, len(result))\n"
     ]
    }
   ],
   "source": [
    "df_metrics_train = mdl.eval_thresh(y_real = y_train, y_proba = y_train_predict[:,1])\n"
   ]
  },
  {
   "cell_type": "code",
   "execution_count": 92,
   "metadata": {},
   "outputs": [
    {
     "data": {
      "text/plain": [
       "<module 'utils.dev.model' from '/Users/bruno.santos/Desktop/Mestrado/projects/bot_detection_twitter_profile_features/utils/dev/model.py'>"
      ]
     },
     "execution_count": 92,
     "metadata": {},
     "output_type": "execute_result"
    }
   ],
   "source": [
    "importlib.reload(mdl)"
   ]
  },
  {
   "cell_type": "code",
   "execution_count": 93,
   "metadata": {},
   "outputs": [
    {
     "data": {
      "image/png": "[encoded data removed]",
      "text/plain": [
       "<Figure size 432x288 with 1 Axes>"
      ]
     },
     "metadata": {
      "needs_background": "light"
     },
     "output_type": "display_data"
    },
    {
     "data": {
      "text/plain": [
       "None"
      ]
     },
     "metadata": {},
     "output_type": "display_data"
    }
   ],
   "source": [
    "mdl.plot_metrics(df_metrics_train)"
   ]
  },
  {
   "cell_type": "markdown",
   "metadata": {},
   "source": [
    "## 2.2) Ordering"
   ]
  },
  {
   "cell_type": "markdown",
   "metadata": {},
   "source": [
    "## 2.2) Callibration"
   ]
  }
 ],
 "metadata": {
  "interpreter": {
   "hash": "631d62a8218a8f50179e13daa5694e946a2017bdca9543a38002332f474c91fc"
  },
  "kernelspec": {
   "display_name": "Python 3.9.6 64-bit ('mestrado_env': venv)",
   "name": "python3"
  },
  "language_info": {
   "codemirror_mode": {
    "name": "ipython",
    "version": 3
   },
   "file_extension": ".py",
   "mimetype": "text/x-python",
   "name": "python",
   "nbconvert_exporter": "python",
   "pygments_lexer": "ipython3",
   "version": "3.9.6"
  },
  "orig_nbformat": 4
 },
 "nbformat": 4,
 "nbformat_minor": 2
}
